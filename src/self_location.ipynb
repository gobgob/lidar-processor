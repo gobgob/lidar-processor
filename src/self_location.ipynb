{
 "cells": [
  {
   "cell_type": "markdown",
   "metadata": {
    "collapsed": true
   },
   "source": [
    "# Trouver sa position en connaissant la position des balises"
   ]
  },
  {
   "cell_type": "code",
   "execution_count": null,
   "metadata": {},
   "outputs": [],
   "source": []
  },
  {
   "cell_type": "code",
   "execution_count": 2,
   "metadata": {},
   "outputs": [],
   "source": [
    "import numpy as np\n",
    "import matplotlib.pyplot as pl\n",
    "# from matplotlib.pyplot import rcParams\n",
    "# rcParams['figure.figsize'] = 20, 20\n",
    "pl.figure(figsize=(15,13))\n",
    "\n",
    "# %matplotlib inline\n",
    "%matplotlib notebook"
   ]
  },
  {
   "cell_type": "code",
   "execution_count": 3,
   "metadata": {},
   "outputs": [],
   "source": [
    "import os\n",
    "os.chdir(\"..\")"
   ]
  },
  {
   "cell_type": "code",
   "execution_count": 4,
   "metadata": {},
   "outputs": [],
   "source": [
    "from src.main.constants import *\n",
    "import src.main.main_script as mm\n",
    "import src.main.clustering as clus\n",
    "import src.main.data_cleansing as dacl\n",
    "import src.main.output_rendering as outr\n",
    "from src.retrieve_realistic_measures import get_table_measures\n",
    "import src.check_hough as chh\n",
    "import src.check_clustering as chc\n",
    "import src.main.geometry as geom"
   ]
  },
  {
   "cell_type": "code",
   "execution_count": 5,
   "metadata": {},
   "outputs": [],
   "source": [
    "os.getcwd()\n",
    "os.chdir(\"src\")"
   ]
  },
  {
   "cell_type": "code",
   "execution_count": null,
   "metadata": {},
   "outputs": [],
   "source": []
  },
  {
   "cell_type": "markdown",
   "metadata": {},
   "source": [
    "## La position des balises est parfaitement connue"
   ]
  },
  {
   "cell_type": "markdown",
   "metadata": {},
   "source": [
    "Le robot a pour état (1000, 560, np.pi/3) dans le référentiel de la table."
   ]
  },
  {
   "cell_type": "code",
   "execution_count": 6,
   "metadata": {},
   "outputs": [],
   "source": [
    "unknown_robot_state = (1000, 500, np.pi/3)"
   ]
  },
  {
   "cell_type": "code",
   "execution_count": 7,
   "metadata": {},
   "outputs": [],
   "source": [
    "import src.main.clustering as clus"
   ]
  },
  {
   "cell_type": "code",
   "execution_count": 8,
   "metadata": {},
   "outputs": [],
   "source": [
    "beacon_1 = clus.Beacon()\n",
    "beacon_1.set_by_upper_left_and_lower_right(beacons_purple[0][0], beacons_purple[0][1])\n",
    "beacon_1.set_radius(FIX_BEACON_RADIUS)\n",
    "beacon_2 = clus.Beacon()\n",
    "beacon_2.set_by_upper_left_and_lower_right(beacons_purple[1][0], beacons_purple[1][1])\n",
    "beacon_2.set_index(1)\n",
    "beacon_2.set_radius(FIX_BEACON_RADIUS)\n",
    "beacon_3 = clus.Beacon()\n",
    "beacon_3.set_by_upper_left_and_lower_right(beacons_purple[2][0], beacons_purple[2][1])\n",
    "beacon_3.set_index(2)\n",
    "beacon_3.set_radius(FIX_BEACON_RADIUS)\n",
    "beacons = [beacon_1, beacon_2, beacon_3]"
   ]
  },
  {
   "cell_type": "code",
   "execution_count": 9,
   "metadata": {},
   "outputs": [
    {
     "name": "stdout",
     "output_type": "stream",
     "text": [
      "(1550.0,1950.0) , 100 n°0\n",
      "(-1550.0,1000.0) , 100 n°1\n",
      "(1550.0,50.0) , 100 n°2\n"
     ]
    }
   ],
   "source": [
    "print(str(beacon_1)+\"\\n\"+str(beacon_2)+\"\\n\"+str(beacon_3))"
   ]
  },
  {
   "cell_type": "code",
   "execution_count": 10,
   "metadata": {},
   "outputs": [],
   "source": [
    "def beacon_seen_from(robot_state, beacon):\n",
    "    p1 = geom.Point(robot_state[0], robot_state[1])\n",
    "    print(\"p1 \"+str(p1))\n",
    "    p2 = beacon.center\n",
    "    print(\"p2 \"+str(p2))\n",
    "    v = geom.Vector()\n",
    "    v.set_by_points(p1, p2)\n",
    "    print(\"v \"+str(v))\n",
    "    angle = v.compute_angle()\n",
    "    rho = v.compute_distance()\n",
    "    return rho, -robot_state[2] + angle"
   ]
  },
  {
   "cell_type": "code",
   "execution_count": 11,
   "metadata": {},
   "outputs": [
    {
     "name": "stdout",
     "output_type": "stream",
     "text": [
      "p1 (1000,500)\n",
      "p2 (1550.0,1950.0)\n",
      "v 550.0 - 1450.0\n"
     ]
    },
    {
     "data": {
      "text/plain": [
       "(1550.8062419270823, 0.16105453833379135)"
      ]
     },
     "execution_count": 11,
     "metadata": {},
     "output_type": "execute_result"
    }
   ],
   "source": [
    "simulated_polar_beacon_position = beacon_seen_from(unknown_robot_state, beacon_1)\n",
    "\n",
    "simulated_polar_beacon_position\n"
   ]
  },
  {
   "cell_type": "code",
   "execution_count": 12,
   "metadata": {},
   "outputs": [
    {
     "data": {
      "text/plain": [
       "129.22774531795417"
      ]
     },
     "execution_count": 12,
     "metadata": {},
     "output_type": "execute_result"
    }
   ],
   "source": [
    "np.rad2deg(2.2554496407269866)"
   ]
  },
  {
   "cell_type": "code",
   "execution_count": 15,
   "metadata": {},
   "outputs": [],
   "source": [
    "robot_point = geom.Point(unknown_robot_state[0], unknown_robot_state[1])\n",
    "\n",
    "v = geom.Vector()\n",
    "v.set_by_points(robot_point, )\n",
    "robot_point\n",
    "coordinates_from_robot = geom.Point(np.cos(simulated_polar_beacon_position[1])*simulated_polar_beacon_position[0],\n",
    "          np.sin(simulated_polar_beacon_position[1])*simulated_polar_beacon_position[0])\n",
    "estimated_beacon_position = robot_point + coordinates_from_robot\n"
   ]
  },
  {
   "cell_type": "code",
   "execution_count": null,
   "metadata": {},
   "outputs": [],
   "source": [
    "str(robot_point)"
   ]
  },
  {
   "cell_type": "code",
   "execution_count": null,
   "metadata": {},
   "outputs": [],
   "source": [
    "str(coordinates_from_robot)"
   ]
  },
  {
   "cell_type": "code",
   "execution_count": null,
   "metadata": {},
   "outputs": [],
   "source": [
    "str(estimated_beacon_position)"
   ]
  },
  {
   "cell_type": "code",
   "execution_count": null,
   "metadata": {},
   "outputs": [],
   "source": [
    "estimated_beacon_position.y"
   ]
  },
  {
   "cell_type": "markdown",
   "metadata": {},
   "source": [
    "## On ne connaît la position que d'une balise"
   ]
  },
  {
   "cell_type": "code",
   "execution_count": null,
   "metadata": {},
   "outputs": [],
   "source": []
  },
  {
   "cell_type": "code",
   "execution_count": null,
   "metadata": {},
   "outputs": [],
   "source": []
  }
 ],
 "metadata": {
  "kernelspec": {
   "display_name": "Python 3",
   "language": "python",
   "name": "python3"
  }
 },
 "nbformat": 4,
 "nbformat_minor": 1
}
